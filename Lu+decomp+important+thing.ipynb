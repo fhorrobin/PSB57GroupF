{
 "cells": [
  {
   "cell_type": "code",
   "execution_count": 3,
   "metadata": {
    "collapsed": true
   },
   "outputs": [],
   "source": [
    "import numpy as np\n",
    "\n",
    "def transpose(M):\n",
    "    '''Input matrix M represented with a nested list, where each inner list is a row, \n",
    "    outputs transpose with row and column swapped'''\n",
    "    MT=[]\n",
    "    for o in range(len(M[0])):\n",
    "        MT.append([0]*len(M))\n",
    "    for m in range(len(M[0])):\n",
    "        for n in range(len(M)):\n",
    "            MT[m][n]=M[n][m]\n",
    "    return MT\n",
    "\n",
    "def multiplymatrix(A,B):\n",
    "    '''Multiplies two input matrices A and B with AXB, where\n",
    "    each matrix is nested list where each inner list is a row'''\n",
    "    M=[]\n",
    "    for p in range(len(A)):\n",
    "        M.append([0]*len(A))\n",
    "    for i in range(len(A)):\n",
    "        for j in range(len(B[i])):\n",
    "            for k in range(len(B)):\n",
    "                M[i][j]+=A[i][k]*B[k][j]\n",
    "    return M\n",
    "\n",
    "def multiplyvector(A, a):\n",
    "    '''Multiplies matrix A (nested list) with vector a (list), returns a vector'''\n",
    "    b=[]\n",
    "    for k in range(len(a)):\n",
    "        b.append(0)\n",
    "    for i in range(len(A)):\n",
    "        for j in range(len(a)):\n",
    "            b[i]+=A[i][j]*a[j]\n",
    "    return b\n",
    "\n",
    "def nthpolynomialmatrixparameter (t, n):\n",
    "    '''Given list t of length k and integer n, return nth polynomial matrix thing look like:\n",
    "    1, t[1], t[1]^2, t[1]^3 ... t[1]^n\n",
    "    1, t[2], t[2]^2, t[2]^3 ... t[2]^n\n",
    "    .\n",
    "    .\n",
    "    1, t[k], t[k]^2, t[k]^3 ... t[k]^n\n",
    "    '''\n",
    "    component = []\n",
    "    C = []\n",
    "    for i in range(len(t)):\n",
    "        for j in range(n):\n",
    "            component.append(t[2]**n)\n",
    "        C.append(component)\n",
    "        component = []\n",
    "    return C\n",
    "\n",
    "def sinusoidalmatrixparameter (t):\n",
    "    '''Given list t of length k, return sinusoidal matrix thing look like:\n",
    "    1, sint[1], cost[1]\n",
    "    1, sint[2], cost[2]\n",
    "    .\n",
    "    .\n",
    "    1, sint[k], cost[k]\n",
    "    '''\n",
    "    C = []\n",
    "    for i in range(len(t)):\n",
    "        C.append([1, np.sin(t[i]), np.cos(t[i])])\n",
    "    return C\n",
    "\n",
    "# Use the above functions as wells as prof's lu decomp\n",
    "# First pick either sinusoidalmatrixparameter or nthpolynomial to get the thing C\n",
    "# Then take CT with the transpose functyion\n",
    "# Then use matrix multiply to multiply C and CT for A\n",
    "# Then use vector multiply to multiply CT and other parameter vector to get b\n",
    "# Plug in A, b and ind vector filled with zero into prof's lu decomp thing\n",
    "# Gl friend"
   ]
  },
  {
   "cell_type": "code",
   "execution_count": null,
   "metadata": {
    "collapsed": true
   },
   "outputs": [],
   "source": []
  }
 ],
 "metadata": {
  "kernelspec": {
   "display_name": "Python 3",
   "language": "python",
   "name": "python3"
  },
  "language_info": {
   "codemirror_mode": {
    "name": "ipython",
    "version": 3
   },
   "file_extension": ".py",
   "mimetype": "text/x-python",
   "name": "python",
   "nbconvert_exporter": "python",
   "pygments_lexer": "ipython3",
   "version": "3.6.1"
  }
 },
 "nbformat": 4,
 "nbformat_minor": 2
}
