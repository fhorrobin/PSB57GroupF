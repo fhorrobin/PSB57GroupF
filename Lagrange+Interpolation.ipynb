{
 "cells": [
  {
   "cell_type": "code",
   "execution_count": 28,
   "metadata": {
    "collapsed": true
   },
   "outputs": [],
   "source": [
    "def lagrange(x,y,xr):\n",
    "    '''lagrange function, x and y are list of numbers of same length, xr is the\n",
    "    linear space needed for any point of x for plot and stuff'''\n",
    "    L=0\n",
    "    l=[1]*len(x)\n",
    "    for j in range(len(x)):\n",
    "        for m in range(len(x)):\n",
    "            if j != m:\n",
    "                l[j]=l[j]*(xr-x[m])/(x[j]-x[m])\n",
    "        L += y[j]*l[j]\n",
    "    return L"
   ]
  },
  {
   "cell_type": "code",
   "execution_count": 29,
   "metadata": {},
   "outputs": [],
   "source": [
    "import matplotlib.pyplot as plt\n",
    "import numpy\n",
    "\n",
    "def plotlagrange (x,y):\n",
    "    '''Plot function for lagrange interpolation'''\n",
    "    plt.plot(x, y, 'ro')\n",
    "    t = numpy.linspace(x[0],x[-1],100)\n",
    "    y = lagrange(x,y,t)\n",
    "    plt.plot(t,y)\n",
    "    plt.show()"
   ]
  },
  {
   "cell_type": "markdown",
   "metadata": {},
   "source": [
    "Below is an example on how to use it"
   ]
  },
  {
   "cell_type": "code",
   "execution_count": 31,
   "metadata": {
    "collapsed": true
   },
   "outputs": [],
   "source": [
    "x=[0,1,2,3,4,5,6,7,8,9]\n",
    "y=[0,1,5,3,4,5,6,7,8,9]"
   ]
  },
  {
   "cell_type": "code",
   "execution_count": 32,
   "metadata": {},
   "outputs": [
    {
     "data": {
      "image/png": "[encoded data removed]",
      "text/plain": [
       "<matplotlib.figure.Figure at 0x10ea930b8>"
      ]
     },
     "metadata": {},
     "output_type": "display_data"
    }
   ],
   "source": [
    "plotlagrange (x,y)"
   ]
  },
  {
   "cell_type": "code",
   "execution_count": null,
   "metadata": {
    "collapsed": true
   },
   "outputs": [],
   "source": []
  }
 ],
 "metadata": {
  "kernelspec": {
   "display_name": "Python 3",
   "language": "python",
   "name": "python3"
  },
  "language_info": {
   "codemirror_mode": {
    "name": "ipython",
    "version": 3
   },
   "file_extension": ".py",
   "mimetype": "text/x-python",
   "name": "python",
   "nbconvert_exporter": "python",
   "pygments_lexer": "ipython3",
   "version": "3.6.1"
  }
 },
 "nbformat": 4,
 "nbformat_minor": 2
}
