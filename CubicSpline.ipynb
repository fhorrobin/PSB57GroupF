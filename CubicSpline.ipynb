{
 "cells": [
  {
   "cell_type": "code",
   "execution_count": null,
   "metadata": {
    "collapsed": true
   },
   "outputs": [],
   "source": [
    "from scipy import interpolate\n",
    "'''\n",
    "cubicSpline takes in x and returns the value of f(x),\n",
    "where f(x) is the function defined by the cubic spline of points defined by xVal and yVal\n",
    "xVal and yVal are lists of known x and y coordinate values\n",
    "'''\n",
    "def cubicSpline(x, xVal, yVal):\n",
    "    t = interpolate.splrep(xVal, yVal)\n",
    "    return interpolate.splev(x, t)"
   ]
  }
 ],
 "metadata": {
  "kernelspec": {
   "display_name": "Python 3",
   "language": "python",
   "name": "python3"
  },
  "language_info": {
   "codemirror_mode": {
    "name": "ipython",
    "version": 3
   },
   "file_extension": ".py",
   "mimetype": "text/x-python",
   "name": "python",
   "nbconvert_exporter": "python",
   "pygments_lexer": "ipython3",
   "version": "3.6.1"
  }
 },
 "nbformat": 4,
 "nbformat_minor": 2
}
