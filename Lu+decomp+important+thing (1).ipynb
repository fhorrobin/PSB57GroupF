{
 "cells": [
  {
   "cell_type": "code",
   "execution_count": 61,
   "metadata": {
    "collapsed": true
   },
   "outputs": [],
   "source": [
    "import numpy as np\n",
    "\n",
    "def transpose(M):\n",
    "    '''Input matrix M represented with a nested list, where each inner list is a row, \n",
    "    outputs transpose with row and column swapped'''\n",
    "    MT=[]\n",
    "    for o in range(len(M[0])):\n",
    "        MT.append([0]*len(M))\n",
    "    for m in range(len(M[0])):\n",
    "        for n in range(len(M)):\n",
    "            MT[m][n]=M[n][m]\n",
    "    return MT\n",
    "\n",
    "def multiplymatrix(A,B):\n",
    "    '''Multiplies two input matrices A and B with AXB, where\n",
    "    each matrix is nested list where each inner list is a row'''\n",
    "    M=[]\n",
    "    for p in range(len(A)):\n",
    "        M.append([0]*len(A))\n",
    "    for i in range(len(A)):\n",
    "        for j in range(len(B[i])):\n",
    "            for k in range(len(B)):\n",
    "                M[i][j]+=A[i][k]*B[k][j]\n",
    "    return M\n",
    "\n",
    "def multiplyvector(A, a):\n",
    "    '''Multiplies matrix A (nested list) with vector a (list), returns a vector'''\n",
    "    b=[]\n",
    "    for k in range(len(CT)):\n",
    "        b.append(0)\n",
    "    for i in range(len(A)):\n",
    "        for j in range(len(a)):\n",
    "            b[i]+=A[i][j]*a[j]\n",
    "    return b\n",
    "\n",
    "def nthpolynomialmatrixparameter (t, n):\n",
    "    '''Given list t of length k and integer n, return nth polynomial matrix thing look like:\n",
    "    1, t[1], t[1]^2, t[1]^3 ... t[1]^n\n",
    "    1, t[2], t[2]^2, t[2]^3 ... t[2]^n\n",
    "    .\n",
    "    .\n",
    "    1, t[k], t[k]^2, t[k]^3 ... t[k]^n\n",
    "    '''\n",
    "    component = []\n",
    "    C = []\n",
    "    for i in range(len(t)):\n",
    "        for j in range(n):\n",
    "            component.append(t[i]**j)\n",
    "        C.append(component)\n",
    "        component = []\n",
    "    return C\n",
    "\n",
    "def sinusoidalmatrixparameter (t):\n",
    "    '''Given list t of length k, return sinusoidal matrix thing look like:\n",
    "    1, sint[1], cost[1]\n",
    "    1, sint[2], cost[2]\n",
    "    .\n",
    "    .\n",
    "    1, sint[k], cost[k]\n",
    "    '''\n",
    "    C = []\n",
    "    for i in range(len(t)):\n",
    "        print([1, np.sin(t[i]), np.cos(t[i])])\n",
    "        C.append([1, np.sin(t[i]), np.cos(t[i])])\n",
    "    return C\n",
    "\n",
    "# Use the above functions as wells as prof's lu decomp\n",
    "# First pick either sinusoidalmatrixparameter or nthpolynomial to get the thing C\n",
    "# Then take CT with the transpose functyion\n",
    "# Then use matrix multiply to multiply C and CT for A\n",
    "# Then use vector multiply to multiply CT and other parameter vector to get b\n",
    "# Plug in A, b and ind vector filled with zero into prof's lu decomp thing\n",
    "# Also feel free to rename any function\n",
    "# Gl friend"
   ]
  },
  {
   "cell_type": "code",
   "execution_count": 62,
   "metadata": {},
   "outputs": [],
   "source": [
    "import matplotlib.pyplot as plt\n",
    "import numpy\n",
    "\n",
    "def plotluthingpoly (time, parameter, step, b):\n",
    "    #For scatter, need list time, parameter\n",
    "    plt.plot(time, parameter, 'ro')\n",
    "    #For best fit, needs step as well as b for polynomial\n",
    "    t = numpy.linspace(time[0],time[-1],step)\n",
    "    y = 0\n",
    "    for i in range(len(b)):\n",
    "        y += b[i]*(t**i)\n",
    "    plt.plot(t,y)\n",
    "    plt.show()\n",
    "\n",
    "def plotluthingsine (time, parameter, step, b):\n",
    "    #For scatter, need list time, parameter\n",
    "    plt.plot(time, parameter, 'ro')\n",
    "    #For best fit, needs step as well as b for polynomial\n",
    "    t = numpy.linspace(time[0],time[-1],step)\n",
    "    y = b[0] + b[1]*np.sin(t) + b[2]*np.cos(t)\n",
    "    plt.plot(t,y)\n",
    "    plt.show()"
   ]
  },
  {
   "cell_type": "markdown",
   "metadata": {},
   "source": [
    "Below is example with the thing in a3"
   ]
  },
  {
   "cell_type": "code",
   "execution_count": 63,
   "metadata": {
    "collapsed": true
   },
   "outputs": [],
   "source": [
    "def swap_rows(a,i1,i2):\n",
    "    for k in range(len(a)):\n",
    "        temp = a[i1][k]\n",
    "        a[i1][k] = a[i2][k]\n",
    "        a[i2][k] = temp\n",
    "\n",
    "def lu_decomposition(a, indx):\n",
    "    n = len(a)\n",
    "    for j in range(n):\n",
    "        for i in range(j):\n",
    "            s = a[i][j]\n",
    "            for k in range(i):\n",
    "                s -= a[i][k]*a[k][j]\n",
    "            a[i][j] = s\n",
    "        big = 0.\n",
    "        for i in range(j,n):\n",
    "            s = a[i][j]\n",
    "            for k in range(j):\n",
    "                s -= a[i][k]*a[k][j]\n",
    "            a[i][j] = s\n",
    "            temp = abs(s)\n",
    "            if temp >= big:\n",
    "                big = temp\n",
    "                imax = i\n",
    "        if j != imax:\n",
    "            swap_rows(a,j,imax)\n",
    "        indx[j] = imax\n",
    "        d = 1./a[j][j]\n",
    "        for i in range(j+1,n):\n",
    "            a[i][j] *= d\n",
    "\n",
    "def lu_substitute(a, indx, b):\n",
    "    n = len(a)\n",
    "    for i in range(n):\n",
    "        imax = indx[i]\n",
    "        s = b[imax]\n",
    "        b[imax] = b[i]\n",
    "        for j in range(i):\n",
    "            s -= a[i][j]*b[j]\n",
    "        b[i] = s\n",
    "    for i in reversed(range(n)):\n",
    "        for j in range(i+1,n):\n",
    "            b[i] -= a[i][j]*b[j]\n",
    "        b[i] = b[i]/a[i][i]"
   ]
  },
  {
   "cell_type": "code",
   "execution_count": 83,
   "metadata": {
    "collapsed": true
   },
   "outputs": [],
   "source": [
    "year = [1980,  1981, 1982, 1983, 1984, 1985, 1986, 1987, 1988, 1989, 1990, 1991, 1992, 1993, 1994, 1995, 1996, 1997, 1998, 1999, 2000, 2001, 2002, 2003, 2004, 2005, 2006, 2007, 2008, 2009, 2010, 2011, 2012, 2013, 2014]\n",
    "temp = [0.135, 0.317, -0.002, 0.331, -0.045, -0.033, 0.120, 0.252, 0.375, 0.245, 0.492, 0.397, 0.093, 0.175, 0.343, 0.592, 0.227, 0.518, 0.835, 0.561, 0.484, 0.681, 0.778, 0.770, 0.674, 0.882, 0.810, 0.909, 0.695, 0.731, 0.901, 0.695, 0.751, 0.791, 0.762]"
   ]
  },
  {
   "cell_type": "code",
   "execution_count": 84,
   "metadata": {},
   "outputs": [
    {
     "name": "stdout",
     "output_type": "stream",
     "text": [
      "[-2858.6302463773127, 345.9581573244889, -0.5157067392572479, 0.00025765859680864777, -4.29686792665968e-08]\n"
     ]
    }
   ],
   "source": [
    "#solves the thing we did in class but with 5 parameters\n",
    "C = nthpolynomialmatrixparameter (year, 5)\n",
    "CT = transpose(C)\n",
    "A = multiplymatrix(CT,C)\n",
    "b = multiplyvector(CT,temp)\n",
    "ind=[]\n",
    "for l in range(len(temp)):\n",
    "    ind.append(0)\n",
    "lu_decomposition(A,ind)\n",
    "lu_substitute(A,ind,b)\n",
    "print(b)\n"
   ]
  },
  {
   "cell_type": "code",
   "execution_count": 85,
   "metadata": {},
   "outputs": [
    {
     "data": {
      "image/png": "[encoded data removed]",
      "text/plain": [
       "<matplotlib.figure.Figure at 0x10e804160>"
      ]
     },
     "metadata": {},
     "output_type": "display_data"
    }
   ],
   "source": [
    "plotluthingpoly (year, temp, 100, b)"
   ]
  },
  {
   "cell_type": "code",
   "execution_count": 91,
   "metadata": {
    "collapsed": true
   },
   "outputs": [],
   "source": [
    "temp = [0,-.7,-1,-.7,0,.7,1,.7,0,-.7,-1,-.7,0,.7,1,.7,0,-.7,-1,-.7,0,.7,1,.7,0,-.7,-1,-.7,0,.7,1,.7,0,-.7,1]"
   ]
  },
  {
   "cell_type": "code",
   "execution_count": 92,
   "metadata": {},
   "outputs": [
    {
     "name": "stdout",
     "output_type": "stream",
     "text": [
      "[1, 0.71500288871616191, 0.69912149811570212]\n",
      "[1, 0.97460816499551506, -0.22391722739457742]\n",
      "[1, 0.33816318901382436, -0.9410874866854837]\n",
      "[1, -0.60918746342772934, -0.79302625076506073]\n",
      "[1, -0.99645397140575476, 0.084139662880827887]\n",
      "[1, -0.46758529345625999, 0.88394795850401919]\n",
      "[1, 0.49117914691685866, 0.8710585776134846]\n",
      "[1, 0.99835574480330891, 0.057321957557556182]\n",
      "[1, 0.58764867507100504, -0.80911620592303812]\n",
      "[1, -0.36333987644086646, -0.93165666110855228]\n",
      "[1, -0.98027542118069533, -0.1976362786256875]\n",
      "[1, -0.69595026445871655, 0.71808998697923809]\n",
      "[1, 0.22822835586752285, 0.97360763019709706]\n",
      "[1, 0.94257487833815057, 0.33399490823337513]\n",
      "[1, 0.7903224045714452, -0.6126911920636765]\n",
      "[1, -0.088548843199741295, -0.99607183594758242]\n",
      "[1, -0.88600869289699835, -0.46366862748190385]\n",
      "[1, -0.86887623638318801, 0.49502937877320613]\n",
      "[1, -0.05290297516673631, 0.99859965712917587]\n",
      "[1, 0.81170903744344292, 0.58406201599884877]\n",
      "[1, 0.93003950441613703, -0.36745954910083134]\n",
      "[1, 0.19329594012555862, -0.98114049938374093]\n",
      "[1, -0.72116302008655864, -0.69276539929447534]\n",
      "[1, -0.97258802544475698, 0.23253501405480581]\n",
      "[1, -0.32982008552852765, 0.94404380787225906]\n",
      "[1, 0.61618291997937591, 0.78760307841303545]\n",
      "[1, 0.99567019053136807, -0.092956289121442437]\n",
      "[1, 0.45974287967716049, -0.88805207312755707]\n",
      "[1, -0.49886991453931107, -0.86667687656215942]\n",
      "[1, -0.99882400998482357, -0.048482956570706587]\n",
      "[1, -0.58046391696321298, 0.81428597010124415]\n",
      "[1, 0.3715720243678709, 0.92840413113426112]\n",
      "[1, 0.98198636008731943, 0.188951815557452]\n",
      "[1, 0.68956696500460923, -0.72422192784693573]\n",
      "[1, -0.23683711760234916, -0.97154937070938963]\n",
      "[0.013443398398307882, -0.075686907619326407, 0.036424027866238211]\n"
     ]
    }
   ],
   "source": [
    "#solves the thing we did in class but with sine\n",
    "C = sinusoidalmatrixparameter (year)\n",
    "CT = transpose(C)\n",
    "A = multiplymatrix(CT,C)\n",
    "b = multiplyvector(CT,temp)\n",
    "ind=[]\n",
    "for l in range(len(temp)):\n",
    "    ind.append(0)\n",
    "lu_decomposition(A,ind)\n",
    "lu_substitute(A,ind,b)\n",
    "print(b)"
   ]
  },
  {
   "cell_type": "code",
   "execution_count": 93,
   "metadata": {},
   "outputs": [
    {
     "data": {
      "image/png": "[encoded data removed]",
      "text/plain": [
       "<matplotlib.figure.Figure at 0x109cdef60>"
      ]
     },
     "metadata": {},
     "output_type": "display_data"
    }
   ],
   "source": [
    "plotluthingsine (year, temp, 1000, b)"
   ]
  },
  {
   "cell_type": "code",
   "execution_count": null,
   "metadata": {
    "collapsed": true
   },
   "outputs": [],
   "source": []
  }
 ],
 "metadata": {
  "kernelspec": {
   "display_name": "Python 3",
   "language": "python",
   "name": "python3"
  },
  "language_info": {
   "codemirror_mode": {
    "name": "ipython",
    "version": 3
   },
   "file_extension": ".py",
   "mimetype": "text/x-python",
   "name": "python",
   "nbconvert_exporter": "python",
   "pygments_lexer": "ipython3",
   "version": "3.6.1"
  }
 },
 "nbformat": 4,
 "nbformat_minor": 2
}
